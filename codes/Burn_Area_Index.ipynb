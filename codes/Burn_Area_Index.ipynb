{
 "cells": [
  {
   "cell_type": "markdown",
   "metadata": {},
   "source": [
    "# Burn Area Index"
   ]
  },
  {
   "cell_type": "markdown",
   "metadata": {},
   "source": [
    "The Burn Area Index (BAI) is a measure in the red to near-infrared spectrum that emphasizes charcoal signal in post-fire imagery. It measures the spectral distance from exach pixel to a reference spectral point. The brighter pixels represent burned areas."
   ]
  },
  {
   "cell_type": "markdown",
   "metadata": {},
   "source": [
    "The following formula is used to calculate BAI:"
   ]
  },
  {
   "cell_type": "markdown",
   "metadata": {},
   "source": [
    "![alt text](bai.png \"BAI Formula\")"
   ]
  },
  {
   "cell_type": "markdown",
   "metadata": {},
   "source": [
    "### Setting the Libraries"
   ]
  },
  {
   "cell_type": "code",
   "execution_count": null,
   "metadata": {
    "collapsed": true
   },
   "outputs": [],
   "source": [
    "import os\n",
    "import rasterio"
   ]
  },
  {
   "cell_type": "markdown",
   "metadata": {},
   "source": [
    "### Setting the paths"
   ]
  },
  {
   "cell_type": "code",
   "execution_count": null,
   "metadata": {
    "collapsed": true
   },
   "outputs": [],
   "source": [
    "# Sets the workspace environment\n",
    "os.chdir(r\"/Users/Jenny/Downloads/Imagery/test/\")"
   ]
  },
  {
   "cell_type": "code",
   "execution_count": null,
   "metadata": {
    "collapsed": true
   },
   "outputs": [],
   "source": [
    "# Selects the date of the reprojected raster to run\n",
    "date = \"20181005\"\n",
    "\n",
    "# Sets up the paths for the input and output\n",
    "image_in = date + \"_reproject.tif\"\n",
    "out_image = date + \"_bai.tif\""
   ]
  },
  {
   "cell_type": "markdown",
   "metadata": {},
   "source": [
    "### Running the rest of the code"
   ]
  },
  {
   "cell_type": "code",
   "execution_count": null,
   "metadata": {
    "collapsed": true
   },
   "outputs": [],
   "source": [
    "# Opens the reprojected raster to run the BAI\n",
    "with rasterio.open(image_in) as src:\n",
    "    brn_data = src.read()\n",
    "\n",
    "# Formula to calculate BAI **Note 3 represents Band 4 (NIR) and 2 represents Band 3 (Red)\n",
    "brn_bai = (1 / ((.1-brn_data[2])**2)+((.06-brn_data[3])**2))\n",
    "\n",
    "# Reopens the raster to obtain meta data to write out\n",
    "with rasterio.open(image_in) as src:\n",
    "    brn_data_ras = src.read()\n",
    "    brn_meta = src.profile\n",
    "\n",
    "# Sets the parameters of the metadata\n",
    "brn_transform = brn_meta[\"transform\"]\n",
    "brn_crs = brn_meta[\"crs\"]\n",
    "brn_meta['count'] = 1\n",
    "brn_meta['dtype'] = 'float64'\n",
    "\n",
    "# Writes out the BAI raster with the above metadata\n",
    "with rasterio.open(out_image, 'w', **brn_meta) as dst:\n",
    "    dst.write(brn_bai, 1)"
   ]
  }
 ],
 "metadata": {
  "kernelspec": {
   "display_name": "Python 2",
   "language": "python",
   "name": "python2"
  },
  "language_info": {
   "codemirror_mode": {
    "name": "ipython",
    "version": 2
   },
   "file_extension": ".py",
   "mimetype": "text/x-python",
   "name": "python",
   "nbconvert_exporter": "python",
   "pygments_lexer": "ipython2",
   "version": "2.7.11"
  }
 },
 "nbformat": 4,
 "nbformat_minor": 2
}

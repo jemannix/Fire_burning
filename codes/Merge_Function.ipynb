{
 "cells": [
  {
   "cell_type": "markdown",
   "metadata": {},
   "source": [
    "# Merging the Rasters"
   ]
  },
  {
   "cell_type": "markdown",
   "metadata": {},
   "source": [
    "The output from planetlabs is several different rasters as the area of interest will be over multiple images. This is due to how the imagery was taken. The images must be combined together through the process of merge. "
   ]
  },
  {
   "cell_type": "markdown",
   "metadata": {},
   "source": [
    "## Introduction"
   ]
  },
  {
   "cell_type": "markdown",
   "metadata": {},
   "source": [
    "There are numerous libraries that can be used for this process, but this will be done through what is known as raterio. Below are the necessary libraries. "
   ]
  },
  {
   "cell_type": "code",
   "execution_count": 2,
   "metadata": {},
   "outputs": [],
   "source": [
    "import os\n",
    "import rasterio\n",
    "from rasterio.merge import merge"
   ]
  },
  {
   "cell_type": "markdown",
   "metadata": {},
   "source": [
    "## Setting the search path"
   ]
  },
  {
   "cell_type": "markdown",
   "metadata": {},
   "source": [
    "Set the file path where the downloaded images are located."
   ]
  },
  {
   "cell_type": "code",
   "execution_count": null,
   "metadata": {
    "collapsed": true
   },
   "outputs": [],
   "source": [
    "q = \"/Users/Jenny/Downloads/Imagery/Images/\""
   ]
  },
  {
   "cell_type": "markdown",
   "metadata": {},
   "source": [
    "## Merging the files"
   ]
  },
  {
   "cell_type": "markdown",
   "metadata": {},
   "source": [
    "The last part is running the code through defined functions: merge_rast and compare. These functions will search through the above file, select unique names, and merge the appropriate files together based on their names."
   ]
  },
  {
   "cell_type": "code",
   "execution_count": null,
   "metadata": {
    "collapsed": true
   },
   "outputs": [],
   "source": [
    "# Merge function. Two inputs, the path where the file will be saved and the files that will be merged\n",
    "def merge_rast(outpath, q):\n",
    "    files_mosaic = []\n",
    "    \n",
    "    # Opens the files to be merged\n",
    "    for file in q:\n",
    "        src = rasterio.open(file)\n",
    "        files_mosaic.append(src)\n",
    "    \n",
    "    # Sets the files up to be merged\n",
    "    mosaic, out_trans = merge(files_mosaic)\n",
    "    \n",
    "    # Creates the metadata for the files\n",
    "    out_meta = src.meta.copy()\n",
    "\n",
    "    # Writes out the merged raster with the above metadata and a unique name\n",
    "    with rasterio.open(outpath, \"w\", **out_meta) as dest:\n",
    "        dest.write(mosaic)\n",
    "\n",
    "# Function to select files to be merged. Goes through a folder and writes out a list of unique names\n",
    "# Uses the unique names to then select appropriate files\n",
    "def compare():\n",
    "    ending_list = []\n",
    "    \n",
    "    # Selects the first part of the file names (ie. MMDDYY)\n",
    "    for root, dirs, files in os.walk(q):\n",
    "        for filename in files:\n",
    "            if filename.endswith(\".tif\"):\n",
    "                print('File name is: {0}'.format(filename))\n",
    "                ending_list.append(filename.split('_',1)[0])\n",
    "    \n",
    "    # Creates a unique list of the selected names above to iterate through\n",
    "    unique_ending = list(set(ending_list))\n",
    "\n",
    "    # Iterates through the unique list to select where files contain the same name and sets them up to be merged\n",
    "    for unique in unique_ending:\n",
    "        for root, dirs, files in os.walk(q):\n",
    "            for filename in files:\n",
    "                if filename.startswith(unique):\n",
    "                    files_unique = [x for x in files if x.startswith(unique)]\n",
    "                    outpath = q + unique + \"_merge.tif\"\n",
    "                    if unique != False:\n",
    "                        os.chdir(q)\n",
    "                        merge_rast(outpath, files_unique)\n",
    "                else:\n",
    "                    print(\"N/A\")\n",
    "\n",
    "compare()\n"
   ]
  }
 ],
 "metadata": {
  "kernelspec": {
   "display_name": "Python 2",
   "language": "python",
   "name": "python2"
  },
  "language_info": {
   "codemirror_mode": {
    "name": "ipython",
    "version": 2
   },
   "file_extension": ".py",
   "mimetype": "text/x-python",
   "name": "python",
   "nbconvert_exporter": "python",
   "pygments_lexer": "ipython2",
   "version": "2.7.11"
  }
 },
 "nbformat": 4,
 "nbformat_minor": 2
}

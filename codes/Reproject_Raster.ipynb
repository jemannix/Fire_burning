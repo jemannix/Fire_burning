{
 "cells": [
  {
   "cell_type": "markdown",
   "metadata": {},
   "source": [
    "## Reprojecting the Raster"
   ]
  },
  {
   "cell_type": "markdown",
   "metadata": {},
   "source": [
    "The newly merged raster is in EPSG: 36423 which is a projected coordinate system but the raster needs to be in a geographic coordinate system. Thus it will be reprojected to EPSG 4326."
   ]
  },
  {
   "cell_type": "markdown",
   "metadata": {},
   "source": [
    "### Import the Libraries"
   ]
  },
  {
   "cell_type": "code",
   "execution_count": null,
   "metadata": {
    "collapsed": true
   },
   "outputs": [],
   "source": [
    "import rasterio\n",
    "import os\n",
    "import numpy as np\n",
    "from rasterio.warp import calculate_default_transform, reproject, Resampling"
   ]
  },
  {
   "cell_type": "markdown",
   "metadata": {},
   "source": [
    "### Set the Search Paths"
   ]
  },
  {
   "cell_type": "markdown",
   "metadata": {},
   "source": [
    "The folder where all the files are located:"
   ]
  },
  {
   "cell_type": "code",
   "execution_count": null,
   "metadata": {
    "collapsed": true
   },
   "outputs": [],
   "source": [
    "inpath = r\"/Users/Jenny/Downloads/Imagery/Images/\""
   ]
  },
  {
   "cell_type": "markdown",
   "metadata": {},
   "source": [
    "### Reprojecting"
   ]
  },
  {
   "cell_type": "code",
   "execution_count": null,
   "metadata": {
    "collapsed": true
   },
   "outputs": [],
   "source": [
    "# A funciton that reprojects the rasters to 4326\n",
    "def reproject_rast(outpath, inpath):\n",
    "    \n",
    "    # Desired CRS\n",
    "    dst_crs = 'EPSG:4326'\n",
    "    \n",
    "    # Opens the raster to be reprojected\n",
    "    with rasterio.open(inpath) as src:\n",
    "        transform, width, height = calculate_default_transform(\n",
    "            src.crs, dst_crs, src.width, src.height, *src.bounds)\n",
    "        kwargs = src.meta.copy()\n",
    "        kwargs.update({\n",
    "            'crs': dst_crs,\n",
    "            'transform': transform,\n",
    "            'width': width,\n",
    "            'height': height\n",
    "        })\n",
    "        \n",
    "        # Reprojects the raster\n",
    "        with rasterio.open(outpath, 'w', **kwargs) as dst:\n",
    "                for i in range(1, src.count + 1):\n",
    "                    reproject(\n",
    "                        source=rasterio.band(src, i),\n",
    "                        destination=rasterio.band(dst, i),\n",
    "                        src_transform=src.transform,\n",
    "                        src_crs=src.crs,\n",
    "                        dst_transform=transform,\n",
    "                        dst_crs=dst_crs,\n",
    "                        resampling=Resampling.nearest)\n",
    "\n",
    "# Function to search through folders to select files to be reprojected\n",
    "def compare():\n",
    "    ending_list = []\n",
    "    \n",
    "    # Searches for files that end with merge.tif and sets them to a new list\n",
    "    for root, dirs, files in os.walk(inpath):\n",
    "        for filename in files:\n",
    "            if filename.endswith(\"merge.tif\"):\n",
    "                print('File name is: {0}'.format(filename))\n",
    "                ending_list.append(filename.split('_',1)[0])\n",
    "    \n",
    "    # Creates a unique list from above\n",
    "    unique_ending = list(set(ending_list))\n",
    "\n",
    "    # Searches through the unique list to select files that are unique and contain the words merge\n",
    "    for unique in unique_ending:\n",
    "        for root, dirs, files in os.walk(inpath):\n",
    "            for filename in files:\n",
    "                if filename.startswith(unique):\n",
    "                    files_unique = [x for x in files if x.startswith(unique)]\n",
    "                    files_path = [x for x in files_unique if x.endswith(\"merge.tif\")]\n",
    "                    outpath = inpath + unique + \"_reproj.tif\"\n",
    "                    if unique != False:\n",
    "                        os.chdir(inpath)\n",
    "                        reproject_rast(outpath, files_path[0])\n",
    "                else:\n",
    "                    print(\"N/A\")\n",
    "\n",
    "compare()"
   ]
  }
 ],
 "metadata": {
  "kernelspec": {
   "display_name": "Python 2",
   "language": "python",
   "name": "python2"
  },
  "language_info": {
   "codemirror_mode": {
    "name": "ipython",
    "version": 2
   },
   "file_extension": ".py",
   "mimetype": "text/x-python",
   "name": "python",
   "nbconvert_exporter": "python",
   "pygments_lexer": "ipython2",
   "version": "2.7.11"
  }
 },
 "nbformat": 4,
 "nbformat_minor": 2
}

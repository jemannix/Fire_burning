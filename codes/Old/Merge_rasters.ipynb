{
 "cells": [
  {
   "cell_type": "markdown",
   "metadata": {},
   "source": [
    "# Merging the Rasters"
   ]
  },
  {
   "cell_type": "markdown",
   "metadata": {},
   "source": [
    "The output from planetlabs is several different rasters as the area of interest will be over multiple images. This is due to how the imagery was taken. The images must be combined together through the process of merge. "
   ]
  },
  {
   "cell_type": "markdown",
   "metadata": {},
   "source": [
    "## Introduction"
   ]
  },
  {
   "cell_type": "markdown",
   "metadata": {},
   "source": [
    "There are numerous libraries that can be used for this process, but this will be done through what is known as raterio. Below are the necessary libraries. "
   ]
  },
  {
   "cell_type": "code",
   "execution_count": 1,
   "metadata": {
    "collapsed": true
   },
   "outputs": [],
   "source": [
    "import rasterio\n",
    "from rasterio.merge import merge\n",
    "import glob\n",
    "import os"
   ]
  },
  {
   "cell_type": "markdown",
   "metadata": {},
   "source": [
    "## Setting the search path"
   ]
  },
  {
   "cell_type": "markdown",
   "metadata": {},
   "source": [
    "Set the file path where the downloaded images are located."
   ]
  },
  {
   "cell_type": "code",
   "execution_count": 2,
   "metadata": {
    "collapsed": true
   },
   "outputs": [],
   "source": [
    "inpath = r\"/Users/Jenny/Downloads/Imagery/test/\""
   ]
  },
  {
   "cell_type": "markdown",
   "metadata": {},
   "source": [
    "Also designate where the file will be saved out to by specifying a name for the file."
   ]
  },
  {
   "cell_type": "code",
   "execution_count": 3,
   "metadata": {
    "collapsed": true
   },
   "outputs": [],
   "source": [
    "outpath = os.path.join(inpath, \"20181005.tif\")"
   ]
  },
  {
   "cell_type": "markdown",
   "metadata": {},
   "source": [
    "## Merging the files"
   ]
  },
  {
   "cell_type": "markdown",
   "metadata": {},
   "source": [
    "The last part will be specifying the files that will need to be merged. For this all of the files have a standardized name starting with YYYYMMDD and ending with SR.tif. This will search through the folder using a specified date."
   ]
  },
  {
   "cell_type": "code",
   "execution_count": 4,
   "metadata": {
    "collapsed": true
   },
   "outputs": [],
   "source": [
    "# change to be based on date\n",
    "search = '20181005*SR.tif'"
   ]
  },
  {
   "cell_type": "markdown",
   "metadata": {},
   "source": [
    "In this example, the date of the image is October 5th, 2018 which is also the name for to the outpath."
   ]
  },
  {
   "cell_type": "markdown",
   "metadata": {},
   "source": [
    "Run the rest of the code, the output will be a merged raster with the name specified in the outpath above."
   ]
  },
  {
   "cell_type": "code",
   "execution_count": 6,
   "metadata": {},
   "outputs": [
    {
     "name": "stdout",
     "output_type": "stream",
     "text": [
      "/Users/Jenny/Downloads/Imagery/test/20181005_050614_102e_3B_AnalyticMS_SR.tif\n",
      "/Users/Jenny/Downloads/Imagery/test/20181005_050613_102e_3B_AnalyticMS_SR.tif\n"
     ]
    }
   ],
   "source": [
    "# Joins the inpath and the raster paths\n",
    "q = os.path.join(inpath, search)\n",
    "\n",
    "# Selects the files that match the requirements of the search\n",
    "for name in glob.glob(q):\n",
    "    print(name)\n",
    "    x = glob.glob(q)\n",
    "\n",
    "# Creates a blank list for the rasters\n",
    "files_mosaic = []\n",
    "\n",
    "# Opens the rasters and puts them into the list\n",
    "for file in x:\n",
    "    src = rasterio.open(file)\n",
    "    files_mosaic.append(src)\n",
    "\n",
    "# Merges the rasters\n",
    "mosaic, out_trans = merge(files_mosaic)\n",
    "\n",
    "# Collects the metadata based upon the existing rasters\n",
    "out_meta = src.meta.copy()\n",
    "\n",
    "# Saves out the merged raster with the name from specified in the outpath\n",
    "with rasterio.open(outpath, \"w\", **out_meta) as dest:\n",
    "    dest.write(mosaic)"
   ]
  }
 ],
 "metadata": {
  "kernelspec": {
   "display_name": "Python 2",
   "language": "python",
   "name": "python2"
  },
  "language_info": {
   "codemirror_mode": {
    "name": "ipython",
    "version": 2
   },
   "file_extension": ".py",
   "mimetype": "text/x-python",
   "name": "python",
   "nbconvert_exporter": "python",
   "pygments_lexer": "ipython2",
   "version": "2.7.11"
  }
 },
 "nbformat": 4,
 "nbformat_minor": 2
}

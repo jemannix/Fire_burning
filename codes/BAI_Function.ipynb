{
 "cells": [
  {
   "cell_type": "markdown",
   "metadata": {},
   "source": [
    "# Burn Area Index"
   ]
  },
  {
   "cell_type": "markdown",
   "metadata": {},
   "source": [
    "The Burn Area Index (BAI) is a measure in the red to near-infrared spectrum that emphasizes charcoal signal in post-fire imagery. It measures the spectral distance from exach pixel to a reference spectral point. The brighter pixels represent burned areas."
   ]
  },
  {
   "cell_type": "markdown",
   "metadata": {},
   "source": [
    "The following formula is used to calculate BAI:"
   ]
  },
  {
   "cell_type": "markdown",
   "metadata": {},
   "source": [
    "![alt text](bai.png \"BAI Formula\")"
   ]
  },
  {
   "cell_type": "markdown",
   "metadata": {},
   "source": [
    "### Setting the Libraries"
   ]
  },
  {
   "cell_type": "code",
   "execution_count": null,
   "metadata": {
    "collapsed": true
   },
   "outputs": [],
   "source": [
    "import os\n",
    "import rasterio"
   ]
  },
  {
   "cell_type": "markdown",
   "metadata": {},
   "source": [
    "### Setting the paths"
   ]
  },
  {
   "cell_type": "code",
   "execution_count": null,
   "metadata": {
    "collapsed": true
   },
   "outputs": [],
   "source": [
    "inpath = r\"/Users/Jenny/Downloads/Imagery/Images/\""
   ]
  },
  {
   "cell_type": "markdown",
   "metadata": {},
   "source": [
    "### Calculating the BAI"
   ]
  },
  {
   "cell_type": "code",
   "execution_count": null,
   "metadata": {
    "collapsed": true
   },
   "outputs": [],
   "source": [
    "# Function to calculate the Burn Area Index for each raster\n",
    "def bai_rast(inpath, outpath):\n",
    "    \n",
    "    # Opens the raster for the calculation\n",
    "    with rasterio.open(inpath) as src:\n",
    "        brn_data = src.read()\n",
    "       \n",
    "    # BAI Formula\n",
    "    brn_bai = (1 / ((.1-brn_data[2])**2)+((.06-brn_data[3])**2))\n",
    "    \n",
    "    # Sets up the metadata for the output raster\n",
    "    with rasterio.open(inpath) as src:\n",
    "        brn_data_ras = src.read()\n",
    "        brn_meta = src.profile\n",
    "\n",
    "    brn_transform = brn_meta[\"transform\"]\n",
    "    brn_crs = brn_meta[\"crs\"]\n",
    "    brn_meta['count'] = 1\n",
    "    brn_meta['dtype'] = 'float64'\n",
    "\n",
    "    # Saves out the raster according to the below criteria\n",
    "    with rasterio.open(outpath, 'w', **brn_meta) as dst:\n",
    "        dst.write(brn_bai, 1)\n",
    "\n",
    "# Function to select files to calculate the BAI on\n",
    "def compare():\n",
    "    ending_list = []\n",
    "    for root, dirs, files in os.walk(inpath):\n",
    "        for filename in files:\n",
    "            if filename.endswith(\"reproj.tif\"):\n",
    "                print('File name is: {0}'.format(filename))\n",
    "                ending_list.append(filename.split('_',1)[0])\n",
    "\n",
    "    unique_ending = list(set(ending_list))\n",
    "    unique2 = unique_ending\n",
    "    \n",
    "    # Selects the files using a unique identifier and sets up the out paths\n",
    "    for unique in unique_ending:\n",
    "        for root, dirs, files in os.walk(inpath):\n",
    "            for filename in files:\n",
    "                if filename.startswith(unique):\n",
    "                    files_unique = [x for x in files if x.startswith(unique)]\n",
    "                    file_paths = [x for x in files_unique if x.endswith(\"reproj.tif\")]\n",
    "                    outpath = inpath + unique + \"_bai.tif\"\n",
    "                    if unique != False:\n",
    "                        os.chdir(inpath)\n",
    "                        bai_rast(file_paths[0], outpath)\n",
    "                else:\n",
    "                    print(\"N/A\")\n",
    "\n",
    "compare()"
   ]
  }
 ],
 "metadata": {
  "kernelspec": {
   "display_name": "Python 2",
   "language": "python",
   "name": "python2"
  },
  "language_info": {
   "codemirror_mode": {
    "name": "ipython",
    "version": 2
   },
   "file_extension": ".py",
   "mimetype": "text/x-python",
   "name": "python",
   "nbconvert_exporter": "python",
   "pygments_lexer": "ipython2",
   "version": "2.7.11"
  }
 },
 "nbformat": 4,
 "nbformat_minor": 2
}

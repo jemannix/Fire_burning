{
 "cells": [
  {
   "cell_type": "markdown",
   "metadata": {},
   "source": [
    "## Merge daily images\n",
    "The output from planetlabs is several different rasters as the area of interest will be over multiple images. This is due to how the imagery was taken. The images must be combined together through the process of merge.\n"
   ]
  },
  {
   "cell_type": "code",
   "execution_count": 1,
   "metadata": {},
   "outputs": [],
   "source": [
    "import os\n",
    "import rasterio\n",
    "from rasterio.merge import merge\n",
    "import os\n",
    "import rasterio\n",
    "from rasterio.merge import merge\n",
    "from shapely.geometry import mapping, Polygon, Point\n",
    "from rasterio import features\n",
    "import fiona\n",
    "from fiona.crs import from_epsg\n",
    "from osgeo import gdal\n",
    "import ogr, osr\n",
    "from osgeo import ogr\n",
    "import csv\n",
    "import geojson\n",
    "import json\n",
    "import pandas\n",
    "from rasterstats import raster_stats\n",
    "from glob import glob\n",
    "\n",
    "from rasterio.warp import calculate_default_transform, reproject, Resampling"
   ]
  },
  {
   "cell_type": "code",
   "execution_count": 2,
   "metadata": {},
   "outputs": [],
   "source": [
    "inpath = \"../Imagery/\""
   ]
  },
  {
   "cell_type": "code",
   "execution_count": null,
   "metadata": {},
   "outputs": [],
   "source": [
    "# Merge function. Two inputs, the path where the file will be saved and the files that will be merged\n",
    "def merge_rast(outpath, inpath):\n",
    "    files_mosaic = []\n",
    "    \n",
    "    # Opens the files to be merged\n",
    "    for file in q:\n",
    "        src = rasterio.open(file)\n",
    "        files_mosaic.append(src)\n",
    "    \n",
    "    # Sets the files up to be merged\n",
    "    mosaic, out_trans = merge(files_mosaic)\n",
    "    \n",
    "    # Creates the metadata for the files\n",
    "    out_meta = src.meta.copy()\n",
    "\n",
    "    # Writes out the merged raster with the above metadata and a unique name\n",
    "    with rasterio.open(outpath, \"w\", **out_meta) as dest:\n",
    "        dest.write(mosaic)\n",
    "\n",
    "# Function to select files to be merged. Goes through a folder and writes out a list of unique names\n",
    "# Uses the unique names to then select appropriate files\n",
    "def compare():\n",
    "    ending_list = []\n",
    "    \n",
    "    # Selects the first part of the file names (ie. MMDDYY)\n",
    "    for root, dirs, files in os.walk(inpath):\n",
    "        for filename in files:\n",
    "            if filename.endswith(\".tif\"):\n",
    "                print('File name is: {0}'.format(filename))\n",
    "                ending_list.append(filename.split('_',1)[0])\n",
    "    \n",
    "    # Creates a unique list of the selected names above to iterate through\n",
    "    unique_ending = list(set(ending_list))\n",
    "\n",
    "    # Iterates through the unique list to select where files contain the same name and sets them up to be merged\n",
    "    for unique in unique_ending:\n",
    "        for root, dirs, files in os.walk(inpath):\n",
    "            for filename in files:\n",
    "                if filename.startswith(unique):\n",
    "                    files_unique = [x for x in files if x.startswith(unique)]\n",
    "                    outpath = q + unique + \"_merge.tif\"\n",
    "                    if unique != False:\n",
    "                        os.chdir(q)\n",
    "                        merge_rast(outpath, files_unique)\n",
    "                 \n",
    "\n",
    "compare()\n"
   ]
  },
  {
   "cell_type": "markdown",
   "metadata": {},
   "source": [
    "## Create BIA index\n"
   ]
  },
  {
   "cell_type": "code",
   "execution_count": 7,
   "metadata": {},
   "outputs": [],
   "source": []
  },
  {
   "cell_type": "code",
   "execution_count": 13,
   "metadata": {},
   "outputs": [
    {
     "name": "stdout",
     "output_type": "stream",
     "text": [
      "File name is: 20181005_merge.tif\n",
      "File name is: 20181016_merge.tif\n",
      "File name is: 20181116_merge.tif\n"
     ]
    }
   ],
   "source": [
    "# Function to calculate the Burn Area Index for each raster\n",
    "def bai_rast(inpath, outpath):\n",
    "    \n",
    "    # Opens the raster for the calculation\n",
    "    with rasterio.open(inpath) as src:\n",
    "        brn_data = src.read()\n",
    "       \n",
    "    # BAI Formula\n",
    "    brn_bai = (1 / ((.1-brn_data[2])**2)+((.06-brn_data[3])**2))\n",
    "    \n",
    "    # Sets up the metadata for the output raster\n",
    "    with rasterio.open(inpath) as src:\n",
    "        brn_data_ras = src.read()\n",
    "        brn_meta = src.profile\n",
    "\n",
    "    brn_transform = brn_meta[\"transform\"]\n",
    "    brn_crs = brn_meta[\"crs\"]\n",
    "    brn_meta['count'] = 1\n",
    "    brn_meta['dtype'] = 'float64'\n",
    "\n",
    "    # Saves out the raster according to the below criteria\n",
    "    with rasterio.open(outpath, 'w', **brn_meta) as dst:\n",
    "        dst.write(brn_bai, 1)\n",
    "\n",
    "# Function to select files to calculate the BAI on\n",
    "def compare():\n",
    "    ending_list = []\n",
    "    for root, dirs, files in os.walk(inpath):\n",
    "        for filename in files:\n",
    "            if filename.endswith(\"merge.tif\"):\n",
    "                print('File name is: {0}'.format(filename))\n",
    "                ending_list.append(filename.split('_',1)[0])\n",
    "\n",
    "    unique_ending = list(set(ending_list))\n",
    "    unique2 = unique_ending\n",
    "    \n",
    "    # Selects the files using a unique identifier and sets up the out paths\n",
    "    for unique in unique_ending:\n",
    "        for root, dirs, files in os.walk(inpath):\n",
    "            for filename in files:\n",
    "                if filename.startswith(unique):\n",
    "                    files_unique = [x for x in files if x.startswith(unique)]\n",
    "                    file_paths = [x for x in files_unique if x.endswith(\"merge.tif\")]\n",
    "                    outpath = inpath + unique + \"_bai.tif\"\n",
    "                    if unique != False:\n",
    "                        os.chdir(inpath)\n",
    "                        bai_rast(file_paths[0], outpath)\n",
    "               \n",
    "\n",
    "compare()"
   ]
  },
  {
   "cell_type": "markdown",
   "metadata": {},
   "source": [
    "## Create blank example raster\n"
   ]
  },
  {
   "cell_type": "code",
   "execution_count": 14,
   "metadata": {},
   "outputs": [],
   "source": []
  },
  {
   "cell_type": "code",
   "execution_count": 16,
   "metadata": {},
   "outputs": [
    {
     "name": "stdout",
     "output_type": "stream",
     "text": [
      "File name is: 20181005_bai.tif\n",
      "File name is: 20181016_bai.tif\n",
      "File name is: 20181116_bai.tif\n"
     ]
    }
   ],
   "source": [
    "# Function that merges all the bai rasters as preparation for creating the point grid\n",
    "def merge_all_rast(outpath, inpath):\n",
    "    # Blank list to be appended to\n",
    "    files_mosaic = []\n",
    "    \n",
    "    # For loop to access all files that meet the criteria of ending in \"bai.tif\"\n",
    "    for file in inpath:\n",
    "        src = rasterio.open(file)\n",
    "        files_mosaic.append(src)\n",
    "    \n",
    "    # Merge function for the files set to the above list\n",
    "    mosaic, out_trans = merge(files_mosaic)\n",
    "    \n",
    "    # Collects the metadata of the original bai rasters\n",
    "    out_meta = src.meta.copy()\n",
    "    \n",
    "    # Writes out the merged raster\n",
    "    with rasterio.open(outpath, \"w\", **out_meta) as dest:\n",
    "        dest.write(mosaic)\n",
    "        \n",
    "# Selects the files using a unique identifier and sets up the out paths\n",
    "\n",
    "ending_list = []\n",
    "for root, dirs, files in os.walk(inpath):\n",
    "    for filename in files:\n",
    "        if filename.endswith(\"bai.tif\"):\n",
    "            print('File name is: {0}'.format(filename))\n",
    "            ending_list.append(filename)\n",
    "            outpath = inpath + \"all_merge.tif\"\n",
    "            os.chdir(inpath)\n",
    "            merge_all_rast(outpath, ending_list)\n",
    "        "
   ]
  },
  {
   "cell_type": "code",
   "execution_count": 6,
   "metadata": {},
   "outputs": [
    {
     "name": "stdout",
     "output_type": "stream",
     "text": [
      "20181005_050613_clip_AnalyticMS_SR.tif\n",
      "20181005_050614_clip_AnalyticMS_SR.tif\n",
      "20181005_merge.tif\n",
      "20181016_050544_clip_AnalyticMS_SR.tif\n",
      "20181016_050545_clip_AnalyticMS_SR.tif\n",
      "20181016_merge.tif\n",
      "20181116_045359_clip_AnalyticMS_SR.tif\n",
      "20181116_merge.tif\n"
     ]
    }
   ],
   "source": [
    "for root, dirs, files in os.walk(inpath):\n",
    "    for filename in files:\n",
    "        print(filename)"
   ]
  },
  {
   "cell_type": "code",
   "execution_count": 18,
   "metadata": {},
   "outputs": [
    {
     "name": "stdout",
     "output_type": "stream",
     "text": [
      "(633575.081842361, 3307089.7988889534, 634458.1690485424, 3308309.4637285504)\n"
     ]
    }
   ],
   "source": [
    "# Outpath for the vect_shape function\n",
    "outpath1 = os.path.join(inpath + \"vect_shape.shp\")\n",
    "\n",
    "# Function to vectorize the merged raster from the merge_all_rast() function\n",
    "def vect_shape(outpath, inpath):\n",
    "    merge = os.path.join(inpath + \"all_merge.tif\")\n",
    "    \n",
    "    # Opens the merged raster and collects the bounds of the image\n",
    "    raster = rasterio.open(merge)\n",
    "    raster_bounds = tuple(raster.bounds)\n",
    "\n",
    "\n",
    "    # define the lower and upper limits for x and y\n",
    "    minX, maxX, minY, maxY = raster_bounds[0], raster_bounds[1], raster_bounds[2], raster_bounds[3]\n",
    "    # create one-dimensional arrays for x and y\n",
    "\n",
    "    print(raster_bounds)\n",
    "\n",
    "    top_left = [minX, maxY]\n",
    "    top_right= [minY, maxY]\n",
    "    bottom_left = [minX, maxX]\n",
    "    bottom_right = [minY, maxX]\n",
    "    \n",
    "    # Takes the above coordinates from the bounds and sets them as the new shapefile's bounds\n",
    "    coords = [[top_left], [bottom_left], [top_right], [bottom_right]]\n",
    "\n",
    "    poly = Polygon([top_left, top_right, bottom_right, bottom_left])\n",
    "    \n",
    "    # Schema necessary to write out the shapefile as a polygon\n",
    "    schema = {\n",
    "        'geometry': 'Polygon',\n",
    "        'properties': {'id': 'int'},\n",
    "    }\n",
    "    \n",
    "    # Writes the shapefile out as 4326 with the above criteria\n",
    "    with fiona.open(outpath, 'w', crs=from_epsg(32643), driver ='ESRI Shapefile', schema = schema) as c:\n",
    "        ## If there are multiple geometries, put the \"for\" loop here\n",
    "        c.write({\n",
    "            'geometry': mapping(poly),\n",
    "            'properties': {'id': 123},\n",
    "        })\n",
    "vect_shape(outpath1, inpath)\n",
    "\n",
    "# Outpath for the blank_rast function \n",
    "outpath2 = os.path.join(inpath + \"blank_rast.tif\")\n",
    "\n",
    "# Function to create a blank raster from the shapefile created above\n",
    "def blank_rast(outpath, inpath):\n",
    "    vector_file = os.path.join(inpath + \"vect_shape.shp\")\n",
    "    \n",
    "    # Opens the vectorized merge file to create the blank raster\n",
    "    shapefile = fiona.open(vector_file)\n",
    "    geom = [shapes['geometry'] for shapes in shapefile]\n",
    "    attrib = [shapes['properties'] for shapes in shapefile]\n",
    "\n",
    "\n",
    "    #get metadata for satellite imagery\n",
    "    merge = os.path.join(inpath + \"all_merge.tif\")\n",
    "    rst = rasterio.open(merge)\n",
    "    \n",
    "    # Rasterizes the shapefile\n",
    "    image = features.rasterize(geom, out_shape=rst.shape, transform=rst.transform, dtype = 'float64')\n",
    "    \n",
    "    # Writes out the new blank raster\n",
    "    with rasterio.open(\n",
    "            outpath , 'w',\n",
    "            driver='GTiff',\n",
    "            transform = rst.transform,\n",
    "            dtype= 'float64',\n",
    "            crs= 'EPSG:32643',\n",
    "            count=1,\n",
    "            width=rst.width,\n",
    "            height=rst.height) as dst:\n",
    "        dst.write(image, indexes=1)\n",
    "blank_rast(outpath2, inpath)"
   ]
  },
  {
   "cell_type": "markdown",
   "metadata": {},
   "source": [
    "## Reproject and Resample\n",
    "Make all images the same projection and extent of the empty raster"
   ]
  },
  {
   "cell_type": "code",
   "execution_count": 48,
   "metadata": {},
   "outputs": [
    {
     "name": "stdout",
     "output_type": "stream",
     "text": [
      "File name is: 20181005_bai.tif\n",
      "File name is: 20181016_bai.tif\n",
      "File name is: 20181116_bai.tif\n"
     ]
    }
   ],
   "source": [
    "# A funciton that reprojects the rasters to match blank raster properties \n",
    "def reproject_rast(outpath, inpath):\n",
    "    \n",
    "    # Desired CRS (wgs84 UTM zone 43N)\n",
    "    dst_crs = 'EPSG:32643'  \n",
    "\n",
    "    # opens blank raster and copies properties \n",
    "    with rasterio.open( 'blank_rast.tif') as example:\n",
    "        example.kwargs = example.meta.copy()\n",
    "    \n",
    "    # Opens the raster to be reprojected\n",
    "    with rasterio.open(inpath) as src:\n",
    "        transform, width, height = calculate_default_transform(\n",
    "            src.crs, dst_crs, src.width, src.height, *src.bounds)\n",
    "        kwargs = src.meta.copy()\n",
    "        kwargs.update({\n",
    "            'crs': dst_crs,\n",
    "            'transform': transform,\n",
    "            'width': example.kwargs['width'],\n",
    "            'height': example.kwargs['height']\n",
    "        })\n",
    "        \n",
    "        # Reprojects the raster\n",
    "        with rasterio.open(outpath, 'w', **kwargs) as dst:\n",
    "                for i in range(1, src.count + 1):\n",
    "                    reproject(\n",
    "                        source=rasterio.band(src, i),\n",
    "                        destination=rasterio.band(dst, i),\n",
    "                        src_transform=src.transform,\n",
    "                        src_crs=src.crs,\n",
    "                        dst_transform=transform,\n",
    "                        dst_crs=dst_crs,\n",
    "                        resampling=Resampling.nearest)\n",
    "\n",
    "# Function to search through folders to select files to be reprojected\n",
    "def compare():\n",
    "    ending_list = []\n",
    "    \n",
    "    # Searches for files that end with merge.tif and sets them to a new list\n",
    "    for root, dirs, files in os.walk(inpath):\n",
    "        for filename in files:\n",
    "            if filename.endswith(\"bai.tif\"):\n",
    "                print('File name is: {0}'.format(filename))\n",
    "                ending_list.append(filename.split('_',1)[0])\n",
    "    \n",
    "    # Creates a unique list from above\n",
    "    unique_ending = list(set(ending_list))\n",
    "\n",
    "    # Searches through the unique list to select files that are unique and contain the words merge\n",
    "    for unique in unique_ending:\n",
    "        for root, dirs, files in os.walk(inpath):\n",
    "            for filename in files:\n",
    "                if filename.startswith(unique):\n",
    "                    files_unique = [x for x in files if x.startswith(unique)]\n",
    "                    files_path = [x for x in files_unique if x.endswith(\"bai.tif\")]\n",
    "                    outpath = inpath + unique + \"_bai_reproj.tif\"\n",
    "                    if unique != False:\n",
    "                        os.chdir(inpath)\n",
    "                        reproject_rast(outpath, files_path[0])\n",
    "\n",
    "compare()"
   ]
  },
  {
   "cell_type": "markdown",
   "metadata": {},
   "source": [
    "## Extract Statistics and Classification\n",
    "\n",
    "I moved the final data to a new folder and renamed them baireproject_2018105.tif etc... "
   ]
  },
  {
   "cell_type": "code",
   "execution_count": 41,
   "metadata": {},
   "outputs": [],
   "source": [
    "from tsraster.calculate import calculateFeatures\n",
    "import seaborn as sb\n",
    "\n",
    "#directory\n",
    "path = \"../Imagery/Cleaned/\"\n",
    "\n",
    "parameters = {\n",
    "        \"mean\": None,\n",
    "        \"maximum\": None,\n",
    "        \"median\":None,\n",
    "        \"minimum\":None,\n",
    "        \"mean_abs_change\":None,\n",
    "        \"mean_change\":None,\n",
    "        \"sum_values\":None,\n",
    "        \"standard_deviation\":None\n",
    "    }"
   ]
  },
  {
   "cell_type": "code",
   "execution_count": 42,
   "metadata": {},
   "outputs": [
    {
     "name": "stdout",
     "output_type": "stream",
     "text": [
      "df: ../Imagery/Cleaned/my_df.csv\n"
     ]
    },
    {
     "name": "stderr",
     "output_type": "stream",
     "text": [
      "Feature Extraction: 100%|██████████████████████████████████████████████████████████████| 20/20 [00:42<00:00,  1.06it/s]\n"
     ]
    },
    {
     "name": "stdout",
     "output_type": "stream",
     "text": [
      "features:..\\Imagery\\Cleaned_features\\extracted_features.csv\n"
     ]
    }
   ],
   "source": [
    "ts_features = calculateFeatures(path=path, \n",
    "                                parameters=parameters, \n",
    "                                reset_df=True, \n",
    "                                tiff_output=False,\n",
    "                                   )"
   ]
  },
  {
   "cell_type": "code",
   "execution_count": 43,
   "metadata": {},
   "outputs": [
    {
     "data": {
      "text/html": [
       "<div>\n",
       "<style scoped>\n",
       "    .dataframe tbody tr th:only-of-type {\n",
       "        vertical-align: middle;\n",
       "    }\n",
       "\n",
       "    .dataframe tbody tr th {\n",
       "        vertical-align: top;\n",
       "    }\n",
       "\n",
       "    .dataframe thead th {\n",
       "        text-align: right;\n",
       "    }\n",
       "</style>\n",
       "<table border=\"1\" class=\"dataframe\">\n",
       "  <thead>\n",
       "    <tr style=\"text-align: right;\">\n",
       "      <th></th>\n",
       "      <th>variable</th>\n",
       "      <th>baireproj__maximum</th>\n",
       "      <th>baireproj__mean</th>\n",
       "      <th>baireproj__mean_abs_change</th>\n",
       "      <th>baireproj__mean_change</th>\n",
       "      <th>baireproj__median</th>\n",
       "      <th>baireproj__minimum</th>\n",
       "      <th>baireproj__standard_deviation</th>\n",
       "      <th>baireproj__sum_values</th>\n",
       "    </tr>\n",
       "    <tr>\n",
       "      <th>pixel_id</th>\n",
       "      <th>time</th>\n",
       "      <th></th>\n",
       "      <th></th>\n",
       "      <th></th>\n",
       "      <th></th>\n",
       "      <th></th>\n",
       "      <th></th>\n",
       "      <th></th>\n",
       "      <th></th>\n",
       "    </tr>\n",
       "  </thead>\n",
       "  <tbody>\n",
       "    <tr>\n",
       "      <th>0</th>\n",
       "      <th>20181005_20181116</th>\n",
       "      <td>100.003601</td>\n",
       "      <td>100.003601</td>\n",
       "      <td>0.0</td>\n",
       "      <td>0.0</td>\n",
       "      <td>100.003601</td>\n",
       "      <td>100.003601</td>\n",
       "      <td>0.0</td>\n",
       "      <td>300.010803</td>\n",
       "    </tr>\n",
       "    <tr>\n",
       "      <th>1</th>\n",
       "      <th>20181005_20181116</th>\n",
       "      <td>100.003601</td>\n",
       "      <td>100.003601</td>\n",
       "      <td>0.0</td>\n",
       "      <td>0.0</td>\n",
       "      <td>100.003601</td>\n",
       "      <td>100.003601</td>\n",
       "      <td>0.0</td>\n",
       "      <td>300.010803</td>\n",
       "    </tr>\n",
       "    <tr>\n",
       "      <th>2</th>\n",
       "      <th>20181005_20181116</th>\n",
       "      <td>100.003601</td>\n",
       "      <td>100.003601</td>\n",
       "      <td>0.0</td>\n",
       "      <td>0.0</td>\n",
       "      <td>100.003601</td>\n",
       "      <td>100.003601</td>\n",
       "      <td>0.0</td>\n",
       "      <td>300.010803</td>\n",
       "    </tr>\n",
       "    <tr>\n",
       "      <th>3</th>\n",
       "      <th>20181005_20181116</th>\n",
       "      <td>100.003601</td>\n",
       "      <td>100.003601</td>\n",
       "      <td>0.0</td>\n",
       "      <td>0.0</td>\n",
       "      <td>100.003601</td>\n",
       "      <td>100.003601</td>\n",
       "      <td>0.0</td>\n",
       "      <td>300.010803</td>\n",
       "    </tr>\n",
       "    <tr>\n",
       "      <th>4</th>\n",
       "      <th>20181005_20181116</th>\n",
       "      <td>100.003601</td>\n",
       "      <td>100.003601</td>\n",
       "      <td>0.0</td>\n",
       "      <td>0.0</td>\n",
       "      <td>100.003601</td>\n",
       "      <td>100.003601</td>\n",
       "      <td>0.0</td>\n",
       "      <td>300.010803</td>\n",
       "    </tr>\n",
       "  </tbody>\n",
       "</table>\n",
       "</div>"
      ],
      "text/plain": [
       "variable                    baireproj__maximum  baireproj__mean  \\\n",
       "pixel_id time                                                     \n",
       "0        20181005_20181116          100.003601       100.003601   \n",
       "1        20181005_20181116          100.003601       100.003601   \n",
       "2        20181005_20181116          100.003601       100.003601   \n",
       "3        20181005_20181116          100.003601       100.003601   \n",
       "4        20181005_20181116          100.003601       100.003601   \n",
       "\n",
       "variable                    baireproj__mean_abs_change  \\\n",
       "pixel_id time                                            \n",
       "0        20181005_20181116                         0.0   \n",
       "1        20181005_20181116                         0.0   \n",
       "2        20181005_20181116                         0.0   \n",
       "3        20181005_20181116                         0.0   \n",
       "4        20181005_20181116                         0.0   \n",
       "\n",
       "variable                    baireproj__mean_change  baireproj__median  \\\n",
       "pixel_id time                                                           \n",
       "0        20181005_20181116                     0.0         100.003601   \n",
       "1        20181005_20181116                     0.0         100.003601   \n",
       "2        20181005_20181116                     0.0         100.003601   \n",
       "3        20181005_20181116                     0.0         100.003601   \n",
       "4        20181005_20181116                     0.0         100.003601   \n",
       "\n",
       "variable                    baireproj__minimum  baireproj__standard_deviation  \\\n",
       "pixel_id time                                                                   \n",
       "0        20181005_20181116          100.003601                            0.0   \n",
       "1        20181005_20181116          100.003601                            0.0   \n",
       "2        20181005_20181116          100.003601                            0.0   \n",
       "3        20181005_20181116          100.003601                            0.0   \n",
       "4        20181005_20181116          100.003601                            0.0   \n",
       "\n",
       "variable                    baireproj__sum_values  \n",
       "pixel_id time                                      \n",
       "0        20181005_20181116             300.010803  \n",
       "1        20181005_20181116             300.010803  \n",
       "2        20181005_20181116             300.010803  \n",
       "3        20181005_20181116             300.010803  \n",
       "4        20181005_20181116             300.010803  "
      ]
     },
     "execution_count": 43,
     "metadata": {},
     "output_type": "execute_result"
    }
   ],
   "source": [
    "ts_features.head()\n"
   ]
  },
  {
   "cell_type": "code",
   "execution_count": 44,
   "metadata": {},
   "outputs": [
    {
     "data": {
      "text/html": [
       "<div>\n",
       "<style scoped>\n",
       "    .dataframe tbody tr th:only-of-type {\n",
       "        vertical-align: middle;\n",
       "    }\n",
       "\n",
       "    .dataframe tbody tr th {\n",
       "        vertical-align: top;\n",
       "    }\n",
       "\n",
       "    .dataframe thead th {\n",
       "        text-align: right;\n",
       "    }\n",
       "</style>\n",
       "<table border=\"1\" class=\"dataframe\">\n",
       "  <thead>\n",
       "    <tr style=\"text-align: right;\">\n",
       "      <th>variable</th>\n",
       "      <th>baireproj__maximum</th>\n",
       "      <th>baireproj__mean</th>\n",
       "      <th>baireproj__mean_abs_change</th>\n",
       "      <th>baireproj__mean_change</th>\n",
       "      <th>baireproj__median</th>\n",
       "      <th>baireproj__minimum</th>\n",
       "      <th>baireproj__standard_deviation</th>\n",
       "      <th>baireproj__sum_values</th>\n",
       "    </tr>\n",
       "  </thead>\n",
       "  <tbody>\n",
       "    <tr>\n",
       "      <th>count</th>\n",
       "      <td>1.196580e+05</td>\n",
       "      <td>1.196580e+05</td>\n",
       "      <td>1.196580e+05</td>\n",
       "      <td>1.196580e+05</td>\n",
       "      <td>1.196580e+05</td>\n",
       "      <td>1.196580e+05</td>\n",
       "      <td>1.196580e+05</td>\n",
       "      <td>1.196580e+05</td>\n",
       "    </tr>\n",
       "    <tr>\n",
       "      <th>mean</th>\n",
       "      <td>9.937589e+06</td>\n",
       "      <td>6.810837e+06</td>\n",
       "      <td>3.439601e+06</td>\n",
       "      <td>-2.009424e+06</td>\n",
       "      <td>6.635406e+06</td>\n",
       "      <td>3.859514e+06</td>\n",
       "      <td>2.641112e+06</td>\n",
       "      <td>2.043251e+07</td>\n",
       "    </tr>\n",
       "    <tr>\n",
       "      <th>std</th>\n",
       "      <td>2.511109e+06</td>\n",
       "      <td>1.543344e+06</td>\n",
       "      <td>1.791976e+06</td>\n",
       "      <td>2.159473e+06</td>\n",
       "      <td>2.330068e+06</td>\n",
       "      <td>1.323126e+06</td>\n",
       "      <td>1.144705e+06</td>\n",
       "      <td>4.630032e+06</td>\n",
       "    </tr>\n",
       "    <tr>\n",
       "      <th>min</th>\n",
       "      <td>1.000036e+02</td>\n",
       "      <td>1.000036e+02</td>\n",
       "      <td>0.000000e+00</td>\n",
       "      <td>-7.732684e+06</td>\n",
       "      <td>1.000036e+02</td>\n",
       "      <td>1.000036e+02</td>\n",
       "      <td>0.000000e+00</td>\n",
       "      <td>3.000108e+02</td>\n",
       "    </tr>\n",
       "    <tr>\n",
       "      <th>25%</th>\n",
       "      <td>8.608004e+06</td>\n",
       "      <td>5.874342e+06</td>\n",
       "      <td>2.382346e+06</td>\n",
       "      <td>-3.238375e+06</td>\n",
       "      <td>4.682636e+06</td>\n",
       "      <td>3.093870e+06</td>\n",
       "      <td>1.987154e+06</td>\n",
       "      <td>1.762303e+07</td>\n",
       "    </tr>\n",
       "    <tr>\n",
       "      <th>50%</th>\n",
       "      <td>9.684171e+06</td>\n",
       "      <td>6.784989e+06</td>\n",
       "      <td>3.125462e+06</td>\n",
       "      <td>-2.490711e+06</td>\n",
       "      <td>6.553293e+06</td>\n",
       "      <td>3.587009e+06</td>\n",
       "      <td>2.543638e+06</td>\n",
       "      <td>2.035497e+07</td>\n",
       "    </tr>\n",
       "    <tr>\n",
       "      <th>75%</th>\n",
       "      <td>1.096232e+07</td>\n",
       "      <td>7.715505e+06</td>\n",
       "      <td>4.089568e+06</td>\n",
       "      <td>-1.371758e+06</td>\n",
       "      <td>8.421256e+06</td>\n",
       "      <td>4.372030e+06</td>\n",
       "      <td>3.210396e+06</td>\n",
       "      <td>2.314652e+07</td>\n",
       "    </tr>\n",
       "    <tr>\n",
       "      <th>max</th>\n",
       "      <td>2.006090e+07</td>\n",
       "      <td>1.375215e+07</td>\n",
       "      <td>1.206887e+07</td>\n",
       "      <td>7.942538e+06</td>\n",
       "      <td>1.433334e+07</td>\n",
       "      <td>1.263049e+07</td>\n",
       "      <td>7.431950e+06</td>\n",
       "      <td>4.125644e+07</td>\n",
       "    </tr>\n",
       "  </tbody>\n",
       "</table>\n",
       "</div>"
      ],
      "text/plain": [
       "variable  baireproj__maximum  baireproj__mean  baireproj__mean_abs_change  \\\n",
       "count           1.196580e+05     1.196580e+05                1.196580e+05   \n",
       "mean            9.937589e+06     6.810837e+06                3.439601e+06   \n",
       "std             2.511109e+06     1.543344e+06                1.791976e+06   \n",
       "min             1.000036e+02     1.000036e+02                0.000000e+00   \n",
       "25%             8.608004e+06     5.874342e+06                2.382346e+06   \n",
       "50%             9.684171e+06     6.784989e+06                3.125462e+06   \n",
       "75%             1.096232e+07     7.715505e+06                4.089568e+06   \n",
       "max             2.006090e+07     1.375215e+07                1.206887e+07   \n",
       "\n",
       "variable  baireproj__mean_change  baireproj__median  baireproj__minimum  \\\n",
       "count               1.196580e+05       1.196580e+05        1.196580e+05   \n",
       "mean               -2.009424e+06       6.635406e+06        3.859514e+06   \n",
       "std                 2.159473e+06       2.330068e+06        1.323126e+06   \n",
       "min                -7.732684e+06       1.000036e+02        1.000036e+02   \n",
       "25%                -3.238375e+06       4.682636e+06        3.093870e+06   \n",
       "50%                -2.490711e+06       6.553293e+06        3.587009e+06   \n",
       "75%                -1.371758e+06       8.421256e+06        4.372030e+06   \n",
       "max                 7.942538e+06       1.433334e+07        1.263049e+07   \n",
       "\n",
       "variable  baireproj__standard_deviation  baireproj__sum_values  \n",
       "count                      1.196580e+05           1.196580e+05  \n",
       "mean                       2.641112e+06           2.043251e+07  \n",
       "std                        1.144705e+06           4.630032e+06  \n",
       "min                        0.000000e+00           3.000108e+02  \n",
       "25%                        1.987154e+06           1.762303e+07  \n",
       "50%                        2.543638e+06           2.035497e+07  \n",
       "75%                        3.210396e+06           2.314652e+07  \n",
       "max                        7.431950e+06           4.125644e+07  "
      ]
     },
     "execution_count": 44,
     "metadata": {},
     "output_type": "execute_result"
    }
   ],
   "source": [
    "ts_features.describe()"
   ]
  },
  {
   "cell_type": "code",
   "execution_count": 46,
   "metadata": {
    "scrolled": true
   },
   "outputs": [
    {
     "name": "stderr",
     "output_type": "stream",
     "text": [
      "C:\\Users\\mmann\\AppData\\Local\\Continuum\\anaconda3\\envs\\ts-raster\\lib\\site-packages\\scipy\\stats\\stats.py:1713: FutureWarning: Using a non-tuple sequence for multidimensional indexing is deprecated; use `arr[tuple(seq)]` instead of `arr[seq]`. In the future this will be interpreted as an array index, `arr[np.array(seq)]`, which will result either in an error or a different result.\n",
      "  return np.add.reduce(sorted[indexer] * weights, axis=axis) / sumval\n"
     ]
    },
    {
     "data": {
      "text/plain": [
       "<matplotlib.axes._subplots.AxesSubplot at 0x2718536c518>"
      ]
     },
     "execution_count": 46,
     "metadata": {},
     "output_type": "execute_result"
    },
    {
     "data": {
      "image/png": "[encoded data removed]",
      "text/plain": [
       "<Figure size 432x288 with 1 Axes>"
      ]
     },
     "metadata": {
      "needs_background": "light"
     },
     "output_type": "display_data"
    }
   ],
   "source": [
    "sb.distplot(ts_features.baireproj__maximum.values)"
   ]
  },
  {
   "cell_type": "markdown",
   "metadata": {},
   "source": [
    " ## Example unsupervised classification\n",
    " "
   ]
  },
  {
   "cell_type": "code",
   "execution_count": 71,
   "metadata": {},
   "outputs": [
    {
     "data": {
      "text/plain": [
       "KMeans(algorithm='auto', copy_x=True, init='k-means++', max_iter=300,\n",
       "    n_clusters=2, n_init=10, n_jobs=None, precompute_distances='auto',\n",
       "    random_state=0, tol=0.0001, verbose=0)"
      ]
     },
     "execution_count": 71,
     "metadata": {},
     "output_type": "execute_result"
    }
   ],
   "source": [
    "from sklearn.cluster import KMeans\n",
    "\n",
    "# fit model\n",
    "kmeans = KMeans(n_clusters=2, random_state=0).fit(ts_features)\n",
    "kmeans"
   ]
  },
  {
   "cell_type": "code",
   "execution_count": 73,
   "metadata": {},
   "outputs": [],
   "source": [
    "# make predictions of classes to original data\n",
    "class_preds = kmeans.predict(ts_features)"
   ]
  },
  {
   "cell_type": "code",
   "execution_count": 75,
   "metadata": {},
   "outputs": [
    {
     "data": {
      "image/png": "[encoded data removed]",
      "text/plain": [
       "<Figure size 432x288 with 2 Axes>"
      ]
     },
     "metadata": {
      "needs_background": "light"
     },
     "output_type": "display_data"
    }
   ],
   "source": [
    "# convert classification  back to raster \n",
    "import matplotlib.pyplot as plt\n",
    "%matplotlib inline\n",
    "\n",
    "raster_ex = \"../Imagery/Cleaned/baireproj-20181005.tif\"\n",
    "ex_row, ex_cols =  rasterio.open(raster_ex).shape\n",
    "\n",
    "f2Array = class_preds.reshape(ex_row, ex_cols)\n",
    " # Plot the grid\n",
    "\n",
    "plt.imshow(f2Array)\n",
    "plt.set_cmap(\"Reds\")\n",
    "plt.colorbar( )\n",
    "plt.show()\n",
    "\n",
    "## KEEP IN MIND THAT 1 DOESN'T MEAN BURNED... COULD BE UNBURNED \n"
   ]
  },
  {
   "cell_type": "markdown",
   "metadata": {},
   "source": [
    "## Example supervised classification\n",
    "In this example I will make up an example training dataset and run the classifier on it. "
   ]
  },
  {
   "cell_type": "code",
   "execution_count": 47,
   "metadata": {},
   "outputs": [
    {
     "name": "stdout",
     "output_type": "stream",
     "text": [
      "pixel_id  time             \n",
      "0         20181005_20181116    0\n",
      "1         20181005_20181116    0\n",
      "2         20181005_20181116    0\n",
      "3         20181005_20181116    0\n",
      "4         20181005_20181116    0\n",
      "Name: Burned, dtype: int64\n",
      "variable                    baireproj__maximum  baireproj__mean  \\\n",
      "pixel_id time                                                     \n",
      "0        20181005_20181116          100.003601       100.003601   \n",
      "1        20181005_20181116          100.003601       100.003601   \n",
      "2        20181005_20181116          100.003601       100.003601   \n",
      "3        20181005_20181116          100.003601       100.003601   \n",
      "4        20181005_20181116          100.003601       100.003601   \n",
      "\n",
      "variable                    baireproj__mean_abs_change  \\\n",
      "pixel_id time                                            \n",
      "0        20181005_20181116                         0.0   \n",
      "1        20181005_20181116                         0.0   \n",
      "2        20181005_20181116                         0.0   \n",
      "3        20181005_20181116                         0.0   \n",
      "4        20181005_20181116                         0.0   \n",
      "\n",
      "variable                    baireproj__mean_change  baireproj__median  \\\n",
      "pixel_id time                                                           \n",
      "0        20181005_20181116                     0.0         100.003601   \n",
      "1        20181005_20181116                     0.0         100.003601   \n",
      "2        20181005_20181116                     0.0         100.003601   \n",
      "3        20181005_20181116                     0.0         100.003601   \n",
      "4        20181005_20181116                     0.0         100.003601   \n",
      "\n",
      "variable                    baireproj__minimum  baireproj__standard_deviation  \\\n",
      "pixel_id time                                                                   \n",
      "0        20181005_20181116          100.003601                            0.0   \n",
      "1        20181005_20181116          100.003601                            0.0   \n",
      "2        20181005_20181116          100.003601                            0.0   \n",
      "3        20181005_20181116          100.003601                            0.0   \n",
      "4        20181005_20181116          100.003601                            0.0   \n",
      "\n",
      "variable                    baireproj__sum_values  \n",
      "pixel_id time                                      \n",
      "0        20181005_20181116             300.010803  \n",
      "1        20181005_20181116             300.010803  \n",
      "2        20181005_20181116             300.010803  \n",
      "3        20181005_20181116             300.010803  \n",
      "4        20181005_20181116             300.010803  \n"
     ]
    }
   ],
   "source": [
    "ts_features['Burned']=0\n",
    "ts_features.loc[(ts_features.baireproj__maximum > 0.9e7) &\n",
    "                (ts_features.baireproj__mean_change > 0) ,'Burned'] = 1\n",
    "# isolate dependent variable and remove from independent variables\n",
    "Burned = ts_features['Burned']\n",
    "ts_features.drop(columns=['Burned'],inplace=True)\n",
    "print(Burned.head())\n",
    "print(ts_features.head())"
   ]
  },
  {
   "cell_type": "code",
   "execution_count": 55,
   "metadata": {},
   "outputs": [
    {
     "name": "stdout",
     "output_type": "stream",
     "text": [
      "input should be csv or pandas dataframe with yX, or [y,X]\n",
      "reading in list concat on common index, inner join\n"
     ]
    }
   ],
   "source": [
    "import tsraster.model  as md\n",
    "import pandas as pd\n",
    "\n",
    "\n",
    "obj = [Burned,ts_features]\n",
    "\n",
    "X_train, X_test, y_train, y_test = md.get_data(obj,\n",
    "                                            stratify=True,\n",
    "                                            test_size=0.9,\n",
    "                                            scale=False  )"
   ]
  },
  {
   "cell_type": "code",
   "execution_count": 57,
   "metadata": {},
   "outputs": [],
   "source": [
    "from sklearn.ensemble import RandomForestClassifier\n",
    "clf = GradientBoostingClassifier(n_estimators=200, learning_rate=0.1,\n",
    "                                 max_depth=2, random_state=0).fit(X_train, y_train)\n",
    "\n"
   ]
  },
  {
   "cell_type": "code",
   "execution_count": 58,
   "metadata": {},
   "outputs": [
    {
     "name": "stdout",
     "output_type": "stream",
     "text": [
      "Testing accuracy: 1.0\n",
      "Testing Kappa:  1.0\n",
      "Testing Conf: \n",
      "[[96253     0]\n",
      " [    0 11440]]\n"
     ]
    }
   ],
   "source": [
    "from sklearn.metrics import accuracy_score,confusion_matrix, cohen_kappa_score\n",
    "predict_test = clf.predict(X=X_test)\n",
    "\n",
    "test_acc = accuracy_score(y_test, predict_test)\n",
    "kappa = cohen_kappa_score(y_test, predict_test)\n",
    "confusion = confusion_matrix(y_test, predict_test)\n",
    "\n",
    "print('Testing accuracy:',test_acc)\n",
    "print('Testing Kappa: ',kappa)\n",
    "print('Testing Conf: ')\n",
    "print(confusion)"
   ]
  },
  {
   "cell_type": "code",
   "execution_count": 59,
   "metadata": {},
   "outputs": [
    {
     "data": {
      "text/html": [
       "<div>\n",
       "<style scoped>\n",
       "    .dataframe tbody tr th:only-of-type {\n",
       "        vertical-align: middle;\n",
       "    }\n",
       "\n",
       "    .dataframe tbody tr th {\n",
       "        vertical-align: top;\n",
       "    }\n",
       "\n",
       "    .dataframe thead th {\n",
       "        text-align: right;\n",
       "    }\n",
       "</style>\n",
       "<table border=\"1\" class=\"dataframe\">\n",
       "  <thead>\n",
       "    <tr style=\"text-align: right;\">\n",
       "      <th></th>\n",
       "      <th>importance</th>\n",
       "    </tr>\n",
       "  </thead>\n",
       "  <tbody>\n",
       "    <tr>\n",
       "      <th>baireproj__mean_change</th>\n",
       "      <td>0.754114</td>\n",
       "    </tr>\n",
       "    <tr>\n",
       "      <th>baireproj__maximum</th>\n",
       "      <td>0.245886</td>\n",
       "    </tr>\n",
       "    <tr>\n",
       "      <th>baireproj__mean</th>\n",
       "      <td>0.000000</td>\n",
       "    </tr>\n",
       "    <tr>\n",
       "      <th>baireproj__mean_abs_change</th>\n",
       "      <td>0.000000</td>\n",
       "    </tr>\n",
       "    <tr>\n",
       "      <th>baireproj__median</th>\n",
       "      <td>0.000000</td>\n",
       "    </tr>\n",
       "    <tr>\n",
       "      <th>baireproj__minimum</th>\n",
       "      <td>0.000000</td>\n",
       "    </tr>\n",
       "    <tr>\n",
       "      <th>baireproj__standard_deviation</th>\n",
       "      <td>0.000000</td>\n",
       "    </tr>\n",
       "    <tr>\n",
       "      <th>baireproj__sum_values</th>\n",
       "      <td>0.000000</td>\n",
       "    </tr>\n",
       "  </tbody>\n",
       "</table>\n",
       "</div>"
      ],
      "text/plain": [
       "                               importance\n",
       "baireproj__mean_change           0.754114\n",
       "baireproj__maximum               0.245886\n",
       "baireproj__mean                  0.000000\n",
       "baireproj__mean_abs_change       0.000000\n",
       "baireproj__median                0.000000\n",
       "baireproj__minimum               0.000000\n",
       "baireproj__standard_deviation    0.000000\n",
       "baireproj__sum_values            0.000000"
      ]
     },
     "execution_count": 59,
     "metadata": {},
     "output_type": "execute_result"
    }
   ],
   "source": [
    "feature_importances = pd.DataFrame(clf.feature_importances_,\n",
    "                                   index = X_test.columns,\n",
    "                                    columns=['importance']).sort_values('importance', ascending=False)\n",
    " \n",
    "feature_importances"
   ]
  },
  {
   "cell_type": "markdown",
   "metadata": {},
   "source": [
    "Make predictions back to the full original dataset"
   ]
  },
  {
   "cell_type": "code",
   "execution_count": 62,
   "metadata": {},
   "outputs": [
    {
     "name": "stdout",
     "output_type": "stream",
     "text": [
      "pixel_id  time             \n",
      "0         20181005_20181116    0\n",
      "1         20181005_20181116    0\n",
      "2         20181005_20181116    0\n",
      "3         20181005_20181116    0\n",
      "4         20181005_20181116    0\n",
      "dtype: int64\n",
      "                                 0       1\n",
      "pixel_id time                             \n",
      "0        20181005_20181116  0.9999  0.0001\n",
      "1        20181005_20181116  0.9999  0.0001\n",
      "2        20181005_20181116  0.9999  0.0001\n",
      "3        20181005_20181116  0.9999  0.0001\n",
      "4        20181005_20181116  0.9999  0.0001\n"
     ]
    }
   ],
   "source": [
    "# make prediction of class\n",
    "all_predict = md.model_predict(model = clf,\n",
    "                                        new_X = ts_features)\n",
    "\n",
    "# returns probability of each class\n",
    "all_prob =  md.model_predict_prob(model = clf,\n",
    "                                        new_X = ts_features)\n",
    "print(all_predict.head())\n",
    "print(all_prob.head())"
   ]
  },
  {
   "cell_type": "code",
   "execution_count": 66,
   "metadata": {},
   "outputs": [
    {
     "data": {
      "image/png": "[encoded data removed]",
      "text/plain": [
       "<Figure size 432x288 with 2 Axes>"
      ]
     },
     "metadata": {
      "needs_background": "light"
     },
     "output_type": "display_data"
    }
   ],
   "source": [
    "# convert classification  back to raster \n",
    "import matplotlib.pyplot as plt\n",
    "%matplotlib inline\n",
    "\n",
    "raster_ex = \"../Imagery/Cleaned/baireproj-20181005.tif\"\n",
    "ex_row, ex_cols =  rasterio.open(raster_ex).shape\n",
    "\n",
    "f2Array = all_predict.values.reshape(ex_row, ex_cols)\n",
    " # Plot the grid\n",
    "\n",
    "plt.imshow(f2Array)\n",
    "plt.set_cmap(\"Reds\")\n",
    "plt.colorbar( )\n",
    "plt.show()"
   ]
  },
  {
   "cell_type": "code",
   "execution_count": 67,
   "metadata": {},
   "outputs": [
    {
     "data": {
      "image/png": "[encoded data removed]",
      "text/plain": [
       "<Figure size 432x288 with 2 Axes>"
      ]
     },
     "metadata": {
      "needs_background": "light"
     },
     "output_type": "display_data"
    }
   ],
   "source": [
    "# convert classification PROBABILITY back to raster \n",
    "import matplotlib.pyplot as plt\n",
    "%matplotlib inline\n",
    "\n",
    "raster_ex = \"../Imagery/Cleaned/baireproj-20181005.tif\"\n",
    "ex_row, ex_cols =  rasterio.open(raster_ex).shape\n",
    "\n",
    "f2Array = all_prob[1].values.reshape(ex_row, ex_cols)\n",
    " # Plot the grid\n",
    "\n",
    "plt.imshow(f2Array)\n",
    "plt.set_cmap(\"Reds\")\n",
    "plt.colorbar( )\n",
    "plt.show()"
   ]
  },
  {
   "cell_type": "code",
   "execution_count": null,
   "metadata": {},
   "outputs": [],
   "source": []
  }
 ],
 "metadata": {
  "kernelspec": {
   "display_name": "Python 3",
   "language": "python",
   "name": "python3"
  },
  "language_info": {
   "codemirror_mode": {
    "name": "ipython",
    "version": 3
   },
   "file_extension": ".py",
   "mimetype": "text/x-python",
   "name": "python",
   "nbconvert_exporter": "python",
   "pygments_lexer": "ipython3",
   "version": "3.6.8"
  }
 },
 "nbformat": 4,
 "nbformat_minor": 2
}
